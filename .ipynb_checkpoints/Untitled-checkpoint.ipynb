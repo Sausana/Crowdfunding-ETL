{
 "cells": [
  {
   "cell_type": "code",
   "execution_count": 1,
   "id": "6f3c7056",
   "metadata": {},
   "outputs": [],
   "source": [
    "import pandas as pd"
   ]
  },
  {
   "cell_type": "code",
   "execution_count": null,
   "id": "5e053458",
   "metadata": {},
   "outputs": [],
   "source": [
    "\n",
    "crowdfunding_data = pd.ExcelFile(\"crowdfunding.xlsx\")\n",
    "crowdfunding_data.sheet_names            \n"
   ]
  },
  {
   "cell_type": "code",
   "execution_count": null,
   "id": "cdba1b06",
   "metadata": {},
   "outputs": [],
   "source": [
    "crowdfunding_info_df = pd.read_excel(crowdfunding_data, sheet_name='crowdfunding_info')\n",
    "crowdfunding_info_df.head()"
   ]
  },
  {
   "cell_type": "code",
   "execution_count": null,
   "id": "12c95f54",
   "metadata": {},
   "outputs": [],
   "source": [
    "pd.set_option('max_colwidth', 400)\n",
    "contact_info_df = pd.read_excel(crowdfunding_data, sheet_name='contact_info', header=2)\n",
    "contact_info_df.head()"
   ]
  },
  {
   "cell_type": "code",
   "execution_count": null,
   "id": "816b7ba5",
   "metadata": {},
   "outputs": [],
   "source": [
    "crowdfunding_info_df.info()"
   ]
  },
  {
   "cell_type": "code",
   "execution_count": null,
   "id": "cec94167",
   "metadata": {},
   "outputs": [],
   "source": [
    "contact_info_df.info()"
   ]
  },
  {
   "cell_type": "code",
   "execution_count": null,
   "id": "0a38df49",
   "metadata": {},
   "outputs": [],
   "source": [
    "crowdfunding_info_df[\"category & sub-category\"].unique()"
   ]
  },
  {
   "cell_type": "code",
   "execution_count": null,
   "id": "b9e93309",
   "metadata": {},
   "outputs": [],
   "source": [
    "crowdfunding_info_df[[\"category\",\"subcategory\"]] = crowdfunding_info_df[\"category & sub-category\"].str.split('/', n=1, expand=True)\n",
    "crowdfunding_info_df.head(10)"
   ]
  },
  {
   "cell_type": "code",
   "execution_count": null,
   "id": "62607240",
   "metadata": {},
   "outputs": [],
   "source": [
    "print(crowdfunding_info_df[\"category\"].nunique())\n",
    "print(crowdfunding_info_df[\"subcategory\"].nunique())"
   ]
  },
  {
   "cell_type": "code",
   "execution_count": null,
   "id": "ac53be7f",
   "metadata": {},
   "outputs": [],
   "source": [
    "categories = crowdfunding_info_df[\"category\"].unique()\n",
    "subcategories = crowdfunding_info_df[\"subcategory\"].unique()\n",
    "print(categories)\n",
    "print()\n",
    "print(subcategories)"
   ]
  },
  {
   "cell_type": "code",
   "execution_count": null,
   "id": "1ba7fdec",
   "metadata": {},
   "outputs": [],
   "source": [
    "import numpy as np\n",
    "category_ids = np.arange(1, 10)\n",
    "subcategory_ids = np.arange(1, 25)"
   ]
  },
  {
   "cell_type": "code",
   "execution_count": null,
   "id": "0e79699a",
   "metadata": {},
   "outputs": [],
   "source": []
  }
 ],
 "metadata": {
  "kernelspec": {
   "display_name": "PythonData",
   "language": "python",
   "name": "pythondata"
  },
  "language_info": {
   "codemirror_mode": {
    "name": "ipython",
    "version": 3
   },
   "file_extension": ".py",
   "mimetype": "text/x-python",
   "name": "python",
   "nbconvert_exporter": "python",
   "pygments_lexer": "ipython3",
   "version": "3.9.13"
  }
 },
 "nbformat": 4,
 "nbformat_minor": 5
}
